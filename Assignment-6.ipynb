{
 "cells": [
  {
   "cell_type": "markdown",
   "id": "d4d1ad3c",
   "metadata": {},
   "source": [
    "<H2><CENTER>Data Preprocessing</CENTER></H2>"
   ]
  },
  {
   "cell_type": "markdown",
   "id": "c724507e",
   "metadata": {},
   "source": [
    "**Objective:** \n",
    "\n",
    "<P>The main objective of this project is to design and implement a robust data preprocessing system that addresses common challenges such as missing values, outliers, inconsistent formatting, and noise.By performing effective data preprocessing, the project aims to enhance the quality, reliability\n",
    "and usefulness of the data for machine learning.</P>\n",
    "\n",
    "**Dataset:**\n",
    "https://drive.google.com/file/d/1F3lRf32JM8ejnXq-Cbf9y7fa57zSHGz_/view?usp=sharing"
   ]
  },
  {
   "cell_type": "markdown",
   "id": "125e4828",
   "metadata": {},
   "source": [
    "**Key Components to be fulfilled:**\n",
    "1.  Data Exploration:\n",
    "    -   Explore the data, list down the unique values in each feature and find its length.\n",
    "    -   Perform the statistical analysis and renaming of the columns.\n",
    "2. Data Cleaning:\n",
    "    -   Find the missing and inappropriate values, treat them appropriately.\n",
    "    -   Remove all duplicate rows.\n",
    "    -   Find the outliers.\n",
    "    -   Replace the value 0 in age as NaN Treat the null values in all columns using any\n",
    "    measures(removing/ replace the values with mean/median/mode) .\n",
    "\n",
    "3. Data Analysis:\n",
    "    -   Filter the data with age >40 and salary<5000 Plot the chart with age and salaryCount the number of people from each place and represent it visually\n",
    "\n",
    "4. Data Encoding:\n",
    "    -   Convert categorical variables into numerical representations using techniques such as one-hot encoding, label encoding, making them suitable for analysis by machine learning algorithms.\n",
    "5. Feature Scaling:\n",
    "    -   After the process of encoding, perform the scaling of the features using standardscaler and minmaxscaler."
   ]
  },
  {
   "cell_type": "code",
   "execution_count": 42,
   "id": "52b5f6a9",
   "metadata": {},
   "outputs": [],
   "source": [
    "# Import Necessery Library\n",
    "\n",
    "import pandas as pd\n",
    "import numpy as np\n",
    "import matplotlib.pyplot as plt\n",
    "import seaborn as sn\n",
    "\n",
    "import warnings\n",
    "warnings.filterwarnings('ignore')\n"
   ]
  },
  {
   "cell_type": "code",
   "execution_count": 43,
   "id": "0470c886",
   "metadata": {},
   "outputs": [],
   "source": [
    "df = pd.read_csv(\"Employee.csv\")"
   ]
  },
  {
   "cell_type": "code",
   "execution_count": 44,
   "id": "140c6fb4",
   "metadata": {},
   "outputs": [
    {
     "data": {
      "text/html": [
       "<div>\n",
       "<style scoped>\n",
       "    .dataframe tbody tr th:only-of-type {\n",
       "        vertical-align: middle;\n",
       "    }\n",
       "\n",
       "    .dataframe tbody tr th {\n",
       "        vertical-align: top;\n",
       "    }\n",
       "\n",
       "    .dataframe thead th {\n",
       "        text-align: right;\n",
       "    }\n",
       "</style>\n",
       "<table border=\"1\" class=\"dataframe\">\n",
       "  <thead>\n",
       "    <tr style=\"text-align: right;\">\n",
       "      <th></th>\n",
       "      <th>Company</th>\n",
       "      <th>Age</th>\n",
       "      <th>Salary</th>\n",
       "      <th>Place</th>\n",
       "      <th>Country</th>\n",
       "      <th>Gender</th>\n",
       "    </tr>\n",
       "  </thead>\n",
       "  <tbody>\n",
       "    <tr>\n",
       "      <th>0</th>\n",
       "      <td>TCS</td>\n",
       "      <td>20.0</td>\n",
       "      <td>NaN</td>\n",
       "      <td>Chennai</td>\n",
       "      <td>India</td>\n",
       "      <td>0</td>\n",
       "    </tr>\n",
       "    <tr>\n",
       "      <th>1</th>\n",
       "      <td>Infosys</td>\n",
       "      <td>30.0</td>\n",
       "      <td>NaN</td>\n",
       "      <td>Mumbai</td>\n",
       "      <td>India</td>\n",
       "      <td>0</td>\n",
       "    </tr>\n",
       "    <tr>\n",
       "      <th>2</th>\n",
       "      <td>TCS</td>\n",
       "      <td>35.0</td>\n",
       "      <td>2300.0</td>\n",
       "      <td>Calcutta</td>\n",
       "      <td>India</td>\n",
       "      <td>0</td>\n",
       "    </tr>\n",
       "    <tr>\n",
       "      <th>3</th>\n",
       "      <td>Infosys</td>\n",
       "      <td>40.0</td>\n",
       "      <td>3000.0</td>\n",
       "      <td>Delhi</td>\n",
       "      <td>India</td>\n",
       "      <td>0</td>\n",
       "    </tr>\n",
       "    <tr>\n",
       "      <th>4</th>\n",
       "      <td>TCS</td>\n",
       "      <td>23.0</td>\n",
       "      <td>4000.0</td>\n",
       "      <td>Mumbai</td>\n",
       "      <td>India</td>\n",
       "      <td>0</td>\n",
       "    </tr>\n",
       "  </tbody>\n",
       "</table>\n",
       "</div>"
      ],
      "text/plain": [
       "   Company   Age  Salary     Place Country  Gender\n",
       "0      TCS  20.0     NaN   Chennai   India       0\n",
       "1  Infosys  30.0     NaN    Mumbai   India       0\n",
       "2      TCS  35.0  2300.0  Calcutta   India       0\n",
       "3  Infosys  40.0  3000.0     Delhi   India       0\n",
       "4      TCS  23.0  4000.0    Mumbai   India       0"
      ]
     },
     "execution_count": 44,
     "metadata": {},
     "output_type": "execute_result"
    }
   ],
   "source": [
    "df.head(5)"
   ]
  },
  {
   "cell_type": "markdown",
   "id": "ea5b8695",
   "metadata": {},
   "source": [
    "### 1.  Data Exploration:\n",
    "\n"
   ]
  },
  {
   "cell_type": "code",
   "execution_count": 45,
   "id": "389e4ca4",
   "metadata": {},
   "outputs": [
    {
     "name": "stdout",
     "output_type": "stream",
     "text": [
      "<class 'pandas.core.frame.DataFrame'>\n",
      "RangeIndex: 148 entries, 0 to 147\n",
      "Data columns (total 6 columns):\n",
      " #   Column   Non-Null Count  Dtype  \n",
      "---  ------   --------------  -----  \n",
      " 0   Company  140 non-null    object \n",
      " 1   Age      130 non-null    float64\n",
      " 2   Salary   124 non-null    float64\n",
      " 3   Place    134 non-null    object \n",
      " 4   Country  148 non-null    object \n",
      " 5   Gender   148 non-null    int64  \n",
      "dtypes: float64(2), int64(1), object(3)\n",
      "memory usage: 7.1+ KB\n"
     ]
    }
   ],
   "source": [
    "df.info()"
   ]
  },
  {
   "cell_type": "markdown",
   "id": "82a68631",
   "metadata": {},
   "source": [
    "##### 1.1 Explore the data, list down the unique values in each feature and find its length."
   ]
  },
  {
   "cell_type": "code",
   "execution_count": 46,
   "id": "3e382239",
   "metadata": {},
   "outputs": [
    {
     "data": {
      "text/plain": [
       "[array(['TCS', 'Infosys', 'CTS', nan, 'Tata Consultancy Services',\n",
       "        'Congnizant', 'Infosys Pvt Lmt'], dtype=object),\n",
       " array([20., 30., 35., 40., 23., nan, 34., 45., 18., 22., 32., 37., 50.,\n",
       "        21., 46., 36., 26., 41., 24., 25., 43., 19., 38., 51., 31., 44.,\n",
       "        33., 17.,  0., 54.]),\n",
       " array([  nan, 2300., 3000., 4000., 5000., 6000., 7000., 8000., 9000.,\n",
       "        1089., 1234., 3030., 3045., 3184., 4824., 5835., 7084., 8943.,\n",
       "        8345., 9284., 9876., 2034., 7654., 2934., 4034., 5034., 8202.,\n",
       "        9024., 4345., 6544., 6543., 3234., 4324., 5435., 5555., 8787.,\n",
       "        3454., 5654., 5009., 5098., 3033.]),\n",
       " array(['Chennai', 'Mumbai', 'Calcutta', 'Delhi', 'Podicherry', 'Cochin',\n",
       "        nan, 'Noida', 'Hyderabad', 'Bhopal', 'Nagpur', 'Pune'],\n",
       "       dtype=object),\n",
       " array(['India'], dtype=object),\n",
       " array([0, 1])]"
      ]
     },
     "execution_count": 46,
     "metadata": {},
     "output_type": "execute_result"
    }
   ],
   "source": [
    "# unique values \n",
    "unique_val =[df[col].unique() for col in df.columns]\n",
    "unique_val\n"
   ]
  },
  {
   "cell_type": "code",
   "execution_count": 47,
   "id": "d1c822de",
   "metadata": {},
   "outputs": [
    {
     "data": {
      "text/plain": [
       "[6, 29, 40, 11, 1, 2]"
      ]
     },
     "execution_count": 47,
     "metadata": {},
     "output_type": "execute_result"
    }
   ],
   "source": [
    "#length of the Uniques values of each column\n",
    "count = [df[col].nunique() for col in df.columns]\n",
    "count"
   ]
  },
  {
   "cell_type": "code",
   "execution_count": 48,
   "id": "50f55217",
   "metadata": {},
   "outputs": [
    {
     "data": {
      "text/html": [
       "<div>\n",
       "<style scoped>\n",
       "    .dataframe tbody tr th:only-of-type {\n",
       "        vertical-align: middle;\n",
       "    }\n",
       "\n",
       "    .dataframe tbody tr th {\n",
       "        vertical-align: top;\n",
       "    }\n",
       "\n",
       "    .dataframe thead th {\n",
       "        text-align: right;\n",
       "    }\n",
       "</style>\n",
       "<table border=\"1\" class=\"dataframe\">\n",
       "  <thead>\n",
       "    <tr style=\"text-align: right;\">\n",
       "      <th></th>\n",
       "      <th>Feature</th>\n",
       "      <th>Unique Values</th>\n",
       "      <th>Unique Count</th>\n",
       "    </tr>\n",
       "  </thead>\n",
       "  <tbody>\n",
       "    <tr>\n",
       "      <th>0</th>\n",
       "      <td>Company</td>\n",
       "      <td>[TCS, Infosys, CTS, nan, Tata Consultancy Serv...</td>\n",
       "      <td>6</td>\n",
       "    </tr>\n",
       "    <tr>\n",
       "      <th>1</th>\n",
       "      <td>Age</td>\n",
       "      <td>[20.0, 30.0, 35.0, 40.0, 23.0, nan, 34.0, 45.0...</td>\n",
       "      <td>29</td>\n",
       "    </tr>\n",
       "    <tr>\n",
       "      <th>2</th>\n",
       "      <td>Salary</td>\n",
       "      <td>[nan, 2300.0, 3000.0, 4000.0, 5000.0, 6000.0, ...</td>\n",
       "      <td>40</td>\n",
       "    </tr>\n",
       "    <tr>\n",
       "      <th>3</th>\n",
       "      <td>Place</td>\n",
       "      <td>[Chennai, Mumbai, Calcutta, Delhi, Podicherry,...</td>\n",
       "      <td>11</td>\n",
       "    </tr>\n",
       "    <tr>\n",
       "      <th>4</th>\n",
       "      <td>Country</td>\n",
       "      <td>[India]</td>\n",
       "      <td>1</td>\n",
       "    </tr>\n",
       "    <tr>\n",
       "      <th>5</th>\n",
       "      <td>Gender</td>\n",
       "      <td>[0, 1]</td>\n",
       "      <td>2</td>\n",
       "    </tr>\n",
       "  </tbody>\n",
       "</table>\n",
       "</div>"
      ],
      "text/plain": [
       "   Feature                                      Unique Values  Unique Count\n",
       "0  Company  [TCS, Infosys, CTS, nan, Tata Consultancy Serv...             6\n",
       "1      Age  [20.0, 30.0, 35.0, 40.0, 23.0, nan, 34.0, 45.0...            29\n",
       "2   Salary  [nan, 2300.0, 3000.0, 4000.0, 5000.0, 6000.0, ...            40\n",
       "3    Place  [Chennai, Mumbai, Calcutta, Delhi, Podicherry,...            11\n",
       "4  Country                                            [India]             1\n",
       "5   Gender                                             [0, 1]             2"
      ]
     },
     "execution_count": 48,
     "metadata": {},
     "output_type": "execute_result"
    }
   ],
   "source": [
    "summary = pd.DataFrame({\n",
    "    'Feature': df.columns,\n",
    "    'Unique Values': [df[col].unique() for col in df.columns],\n",
    "    'Unique Count': [df[col].nunique() for col in df.columns]\n",
    "})\n",
    "summary"
   ]
  },
  {
   "cell_type": "markdown",
   "id": "e20e105c",
   "metadata": {},
   "source": [
    "#### 1.2 Perform the statistical analysis and renaming of the columns."
   ]
  },
  {
   "cell_type": "code",
   "execution_count": 49,
   "id": "f0beeb88",
   "metadata": {},
   "outputs": [
    {
     "data": {
      "text/html": [
       "<div>\n",
       "<style scoped>\n",
       "    .dataframe tbody tr th:only-of-type {\n",
       "        vertical-align: middle;\n",
       "    }\n",
       "\n",
       "    .dataframe tbody tr th {\n",
       "        vertical-align: top;\n",
       "    }\n",
       "\n",
       "    .dataframe thead th {\n",
       "        text-align: right;\n",
       "    }\n",
       "</style>\n",
       "<table border=\"1\" class=\"dataframe\">\n",
       "  <thead>\n",
       "    <tr style=\"text-align: right;\">\n",
       "      <th></th>\n",
       "      <th>Age</th>\n",
       "      <th>Salary</th>\n",
       "      <th>Gender</th>\n",
       "    </tr>\n",
       "  </thead>\n",
       "  <tbody>\n",
       "    <tr>\n",
       "      <th>count</th>\n",
       "      <td>130.000000</td>\n",
       "      <td>124.000000</td>\n",
       "      <td>148.000000</td>\n",
       "    </tr>\n",
       "    <tr>\n",
       "      <th>mean</th>\n",
       "      <td>30.484615</td>\n",
       "      <td>5312.467742</td>\n",
       "      <td>0.222973</td>\n",
       "    </tr>\n",
       "    <tr>\n",
       "      <th>std</th>\n",
       "      <td>11.096640</td>\n",
       "      <td>2573.764683</td>\n",
       "      <td>0.417654</td>\n",
       "    </tr>\n",
       "    <tr>\n",
       "      <th>min</th>\n",
       "      <td>0.000000</td>\n",
       "      <td>1089.000000</td>\n",
       "      <td>0.000000</td>\n",
       "    </tr>\n",
       "    <tr>\n",
       "      <th>25%</th>\n",
       "      <td>22.000000</td>\n",
       "      <td>3030.000000</td>\n",
       "      <td>0.000000</td>\n",
       "    </tr>\n",
       "    <tr>\n",
       "      <th>50%</th>\n",
       "      <td>32.500000</td>\n",
       "      <td>5000.000000</td>\n",
       "      <td>0.000000</td>\n",
       "    </tr>\n",
       "    <tr>\n",
       "      <th>75%</th>\n",
       "      <td>37.750000</td>\n",
       "      <td>8000.000000</td>\n",
       "      <td>0.000000</td>\n",
       "    </tr>\n",
       "    <tr>\n",
       "      <th>max</th>\n",
       "      <td>54.000000</td>\n",
       "      <td>9876.000000</td>\n",
       "      <td>1.000000</td>\n",
       "    </tr>\n",
       "  </tbody>\n",
       "</table>\n",
       "</div>"
      ],
      "text/plain": [
       "              Age       Salary      Gender\n",
       "count  130.000000   124.000000  148.000000\n",
       "mean    30.484615  5312.467742    0.222973\n",
       "std     11.096640  2573.764683    0.417654\n",
       "min      0.000000  1089.000000    0.000000\n",
       "25%     22.000000  3030.000000    0.000000\n",
       "50%     32.500000  5000.000000    0.000000\n",
       "75%     37.750000  8000.000000    0.000000\n",
       "max     54.000000  9876.000000    1.000000"
      ]
     },
     "execution_count": 49,
     "metadata": {},
     "output_type": "execute_result"
    }
   ],
   "source": [
    "# Perform statistical analysis\n",
    "df.describe()"
   ]
  },
  {
   "cell_type": "code",
   "execution_count": 50,
   "id": "4c39cc80",
   "metadata": {},
   "outputs": [],
   "source": [
    "# Renaming the columns\n",
    "df.rename(\n",
    "    columns={\n",
    "        'Country': 'HQ',\n",
    "        'Salary' : 'Monthly_Salary',\n",
    "        'Place' : 'Location',\n",
    "        'Company' : 'Company_Name'\n",
    "        \n",
    "    },inplace=True\n",
    ")"
   ]
  },
  {
   "cell_type": "code",
   "execution_count": 51,
   "id": "8d8ad27d",
   "metadata": {},
   "outputs": [
    {
     "data": {
      "text/html": [
       "<div>\n",
       "<style scoped>\n",
       "    .dataframe tbody tr th:only-of-type {\n",
       "        vertical-align: middle;\n",
       "    }\n",
       "\n",
       "    .dataframe tbody tr th {\n",
       "        vertical-align: top;\n",
       "    }\n",
       "\n",
       "    .dataframe thead th {\n",
       "        text-align: right;\n",
       "    }\n",
       "</style>\n",
       "<table border=\"1\" class=\"dataframe\">\n",
       "  <thead>\n",
       "    <tr style=\"text-align: right;\">\n",
       "      <th></th>\n",
       "      <th>Company_Name</th>\n",
       "      <th>Age</th>\n",
       "      <th>Monthly_Salary</th>\n",
       "      <th>Location</th>\n",
       "      <th>HQ</th>\n",
       "      <th>Gender</th>\n",
       "    </tr>\n",
       "  </thead>\n",
       "  <tbody>\n",
       "    <tr>\n",
       "      <th>0</th>\n",
       "      <td>TCS</td>\n",
       "      <td>20.0</td>\n",
       "      <td>NaN</td>\n",
       "      <td>Chennai</td>\n",
       "      <td>India</td>\n",
       "      <td>0</td>\n",
       "    </tr>\n",
       "    <tr>\n",
       "      <th>1</th>\n",
       "      <td>Infosys</td>\n",
       "      <td>30.0</td>\n",
       "      <td>NaN</td>\n",
       "      <td>Mumbai</td>\n",
       "      <td>India</td>\n",
       "      <td>0</td>\n",
       "    </tr>\n",
       "    <tr>\n",
       "      <th>2</th>\n",
       "      <td>TCS</td>\n",
       "      <td>35.0</td>\n",
       "      <td>2300.0</td>\n",
       "      <td>Calcutta</td>\n",
       "      <td>India</td>\n",
       "      <td>0</td>\n",
       "    </tr>\n",
       "    <tr>\n",
       "      <th>3</th>\n",
       "      <td>Infosys</td>\n",
       "      <td>40.0</td>\n",
       "      <td>3000.0</td>\n",
       "      <td>Delhi</td>\n",
       "      <td>India</td>\n",
       "      <td>0</td>\n",
       "    </tr>\n",
       "    <tr>\n",
       "      <th>4</th>\n",
       "      <td>TCS</td>\n",
       "      <td>23.0</td>\n",
       "      <td>4000.0</td>\n",
       "      <td>Mumbai</td>\n",
       "      <td>India</td>\n",
       "      <td>0</td>\n",
       "    </tr>\n",
       "  </tbody>\n",
       "</table>\n",
       "</div>"
      ],
      "text/plain": [
       "  Company_Name   Age  Monthly_Salary  Location     HQ  Gender\n",
       "0          TCS  20.0             NaN   Chennai  India       0\n",
       "1      Infosys  30.0             NaN    Mumbai  India       0\n",
       "2          TCS  35.0          2300.0  Calcutta  India       0\n",
       "3      Infosys  40.0          3000.0     Delhi  India       0\n",
       "4          TCS  23.0          4000.0    Mumbai  India       0"
      ]
     },
     "execution_count": 51,
     "metadata": {},
     "output_type": "execute_result"
    }
   ],
   "source": [
    "df.head()"
   ]
  },
  {
   "cell_type": "markdown",
   "id": "ebfb4fe4",
   "metadata": {},
   "source": [
    "### 2. Data Cleaning:"
   ]
  },
  {
   "cell_type": "markdown",
   "id": "b104871b",
   "metadata": {},
   "source": [
    "#### 2.1 Find the missing and inappropriate values, treat them appropriately."
   ]
  },
  {
   "cell_type": "code",
   "execution_count": 52,
   "id": "61c96b5b",
   "metadata": {},
   "outputs": [
    {
     "data": {
      "text/plain": [
       "Company_Name       8\n",
       "Age               18\n",
       "Monthly_Salary    24\n",
       "Location          14\n",
       "HQ                 0\n",
       "Gender             0\n",
       "dtype: int64"
      ]
     },
     "execution_count": 52,
     "metadata": {},
     "output_type": "execute_result"
    }
   ],
   "source": [
    "# find the missing Value \n",
    "df.isnull().sum()"
   ]
  },
  {
   "cell_type": "code",
   "execution_count": 53,
   "id": "fe120439",
   "metadata": {},
   "outputs": [],
   "source": [
    "#Replace the value 0 in age as NaN\n",
    "df['Age'].replace(0, np.nan, inplace=True)"
   ]
  },
  {
   "cell_type": "code",
   "execution_count": 54,
   "id": "0072b9da",
   "metadata": {},
   "outputs": [],
   "source": [
    "# Treat the null values in all columns\n",
    "df['Age'].fillna(df['Age'].median(),inplace=True)\n",
    "df['Monthly_Salary'].fillna(df['Monthly_Salary'].median(),inplace=True)"
   ]
  },
  {
   "cell_type": "code",
   "execution_count": 55,
   "id": "b6a34039",
   "metadata": {},
   "outputs": [],
   "source": [
    "# For categorical columns, use mode\n",
    "df['Location'].fillna(df['Location'].mode()[0],inplace=True)\n",
    "df['Company_Name'] = df['Company_Name'].fillna('Other')"
   ]
  },
  {
   "cell_type": "code",
   "execution_count": 56,
   "id": "3b0a49b5",
   "metadata": {},
   "outputs": [
    {
     "data": {
      "text/plain": [
       "Company_Name      0\n",
       "Age               0\n",
       "Monthly_Salary    0\n",
       "Location          0\n",
       "HQ                0\n",
       "Gender            0\n",
       "dtype: int64"
      ]
     },
     "execution_count": 56,
     "metadata": {},
     "output_type": "execute_result"
    }
   ],
   "source": [
    "df.isnull().sum()"
   ]
  },
  {
   "cell_type": "markdown",
   "id": "386e7b5f",
   "metadata": {},
   "source": [
    "##### 2.2 Remove all duplicate rows."
   ]
  },
  {
   "cell_type": "code",
   "execution_count": 57,
   "id": "2c102f6f",
   "metadata": {},
   "outputs": [
    {
     "name": "stdout",
     "output_type": "stream",
     "text": [
      "Data Before removing Duplicates :  (148, 6)\n"
     ]
    }
   ],
   "source": [
    "print(\"Data Before removing Duplicates : \",df.shape)"
   ]
  },
  {
   "cell_type": "code",
   "execution_count": 58,
   "id": "2da9e500",
   "metadata": {},
   "outputs": [],
   "source": [
    "#Remove all duplicate rows\n",
    "df.drop_duplicates(inplace=True)"
   ]
  },
  {
   "cell_type": "code",
   "execution_count": 59,
   "id": "9fc2314c",
   "metadata": {},
   "outputs": [
    {
     "name": "stdout",
     "output_type": "stream",
     "text": [
      "Data After removing Duplicates :  (144, 6)\n"
     ]
    }
   ],
   "source": [
    "print(\"Data After removing Duplicates : \",df.shape)"
   ]
  },
  {
   "cell_type": "markdown",
   "id": "4f776b24",
   "metadata": {},
   "source": [
    "#### 2.3 Find the outliers."
   ]
  },
  {
   "cell_type": "code",
   "execution_count": 63,
   "id": "5daf35e8",
   "metadata": {},
   "outputs": [
    {
     "data": {
      "image/png": "[encoded data removed]",
      "text/plain": [
       "<Figure size 1200x500 with 2 Axes>"
      ]
     },
     "metadata": {},
     "output_type": "display_data"
    }
   ],
   "source": [
    "#Find the outliers.\n",
    "plt.figure(figsize=(12, 5))\n",
    "plt.subplot(1, 2, 1)\n",
    "sn.boxplot(y=df['Age'])\n",
    "plt.title(\"Box Plot of Age\")\n",
    "\n",
    "plt.subplot(1,2,2)\n",
    "sn.boxplot(y=df['Monthly_Salary'])\n",
    "plt.title(\"Box Plot of Monthly_Salary\")\n",
    "\n",
    "plt.tight_layout()\n",
    "plt.show()"
   ]
  },
  {
   "cell_type": "code",
   "execution_count": 91,
   "id": "162ae1b0",
   "metadata": {},
   "outputs": [
    {
     "name": "stdout",
     "output_type": "stream",
     "text": [
      "Outliers:\n",
      " Empty DataFrame\n",
      "Columns: [Company_Name, Age, Monthly_Salary, Location, HQ, Gender]\n",
      "Index: []\n"
     ]
    }
   ],
   "source": [
    "# Outlier detection (using IQR method)\n",
    "Q1 = df['Monthly_Salary'].quantile(0.25)\n",
    "Q3 = df['Monthly_Salary'].quantile(0.75)\n",
    "IQR = Q3 - Q1\n",
    "outliers = df[(df['Monthly_Salary'] < (Q1 - 1.5 * IQR)) | (df['Monthly_Salary'] > (Q3 + 1.5 * IQR))]\n",
    "print(\"Outliers:\\n\", outliers)"
   ]
  },
  {
   "cell_type": "markdown",
   "id": "21c8ff72",
   "metadata": {},
   "source": [
    "### 3. Data Analysis"
   ]
  },
  {
   "cell_type": "markdown",
   "id": "ff99acb2",
   "metadata": {},
   "source": [
    "#### 3.1 Filter the data with age >40 and salary<5000 Plot the chart with age and salary Count the number of people from each place and represent it visually"
   ]
  },
  {
   "cell_type": "code",
   "execution_count": 69,
   "id": "189f25a0",
   "metadata": {},
   "outputs": [
    {
     "data": {
      "text/html": [
       "<div>\n",
       "<style scoped>\n",
       "    .dataframe tbody tr th:only-of-type {\n",
       "        vertical-align: middle;\n",
       "    }\n",
       "\n",
       "    .dataframe tbody tr th {\n",
       "        vertical-align: top;\n",
       "    }\n",
       "\n",
       "    .dataframe thead th {\n",
       "        text-align: right;\n",
       "    }\n",
       "</style>\n",
       "<table border=\"1\" class=\"dataframe\">\n",
       "  <thead>\n",
       "    <tr style=\"text-align: right;\">\n",
       "      <th></th>\n",
       "      <th>Company_Name</th>\n",
       "      <th>Age</th>\n",
       "      <th>Monthly_Salary</th>\n",
       "      <th>Location</th>\n",
       "      <th>HQ</th>\n",
       "      <th>Gender</th>\n",
       "    </tr>\n",
       "  </thead>\n",
       "  <tbody>\n",
       "    <tr>\n",
       "      <th>21</th>\n",
       "      <td>Infosys</td>\n",
       "      <td>50.0</td>\n",
       "      <td>3184.0</td>\n",
       "      <td>Delhi</td>\n",
       "      <td>India</td>\n",
       "      <td>0</td>\n",
       "    </tr>\n",
       "    <tr>\n",
       "      <th>32</th>\n",
       "      <td>Infosys</td>\n",
       "      <td>45.0</td>\n",
       "      <td>4034.0</td>\n",
       "      <td>Calcutta</td>\n",
       "      <td>India</td>\n",
       "      <td>0</td>\n",
       "    </tr>\n",
       "    <tr>\n",
       "      <th>39</th>\n",
       "      <td>Infosys</td>\n",
       "      <td>41.0</td>\n",
       "      <td>3000.0</td>\n",
       "      <td>Mumbai</td>\n",
       "      <td>India</td>\n",
       "      <td>0</td>\n",
       "    </tr>\n",
       "    <tr>\n",
       "      <th>50</th>\n",
       "      <td>Infosys</td>\n",
       "      <td>41.0</td>\n",
       "      <td>3000.0</td>\n",
       "      <td>Chennai</td>\n",
       "      <td>India</td>\n",
       "      <td>0</td>\n",
       "    </tr>\n",
       "    <tr>\n",
       "      <th>57</th>\n",
       "      <td>Infosys</td>\n",
       "      <td>51.0</td>\n",
       "      <td>3184.0</td>\n",
       "      <td>Hyderabad</td>\n",
       "      <td>India</td>\n",
       "      <td>0</td>\n",
       "    </tr>\n",
       "    <tr>\n",
       "      <th>68</th>\n",
       "      <td>Infosys</td>\n",
       "      <td>43.0</td>\n",
       "      <td>4034.0</td>\n",
       "      <td>Mumbai</td>\n",
       "      <td>India</td>\n",
       "      <td>0</td>\n",
       "    </tr>\n",
       "    <tr>\n",
       "      <th>75</th>\n",
       "      <td>Infosys</td>\n",
       "      <td>44.0</td>\n",
       "      <td>3000.0</td>\n",
       "      <td>Cochin</td>\n",
       "      <td>India</td>\n",
       "      <td>0</td>\n",
       "    </tr>\n",
       "    <tr>\n",
       "      <th>86</th>\n",
       "      <td>Infosys</td>\n",
       "      <td>41.0</td>\n",
       "      <td>3000.0</td>\n",
       "      <td>Delhi</td>\n",
       "      <td>India</td>\n",
       "      <td>0</td>\n",
       "    </tr>\n",
       "    <tr>\n",
       "      <th>93</th>\n",
       "      <td>Infosys</td>\n",
       "      <td>54.0</td>\n",
       "      <td>3184.0</td>\n",
       "      <td>Mumbai</td>\n",
       "      <td>India</td>\n",
       "      <td>0</td>\n",
       "    </tr>\n",
       "    <tr>\n",
       "      <th>104</th>\n",
       "      <td>Infosys</td>\n",
       "      <td>44.0</td>\n",
       "      <td>4034.0</td>\n",
       "      <td>Delhi</td>\n",
       "      <td>India</td>\n",
       "      <td>0</td>\n",
       "    </tr>\n",
       "    <tr>\n",
       "      <th>122</th>\n",
       "      <td>Infosys</td>\n",
       "      <td>44.0</td>\n",
       "      <td>3234.0</td>\n",
       "      <td>Mumbai</td>\n",
       "      <td>India</td>\n",
       "      <td>0</td>\n",
       "    </tr>\n",
       "    <tr>\n",
       "      <th>129</th>\n",
       "      <td>Infosys</td>\n",
       "      <td>50.0</td>\n",
       "      <td>3184.0</td>\n",
       "      <td>Calcutta</td>\n",
       "      <td>India</td>\n",
       "      <td>0</td>\n",
       "    </tr>\n",
       "    <tr>\n",
       "      <th>138</th>\n",
       "      <td>CTS</td>\n",
       "      <td>44.0</td>\n",
       "      <td>3033.0</td>\n",
       "      <td>Cochin</td>\n",
       "      <td>India</td>\n",
       "      <td>0</td>\n",
       "    </tr>\n",
       "    <tr>\n",
       "      <th>140</th>\n",
       "      <td>Infosys</td>\n",
       "      <td>44.0</td>\n",
       "      <td>4034.0</td>\n",
       "      <td>Hyderabad</td>\n",
       "      <td>India</td>\n",
       "      <td>0</td>\n",
       "    </tr>\n",
       "    <tr>\n",
       "      <th>145</th>\n",
       "      <td>Infosys</td>\n",
       "      <td>44.0</td>\n",
       "      <td>4034.0</td>\n",
       "      <td>Delhi</td>\n",
       "      <td>India</td>\n",
       "      <td>1</td>\n",
       "    </tr>\n",
       "  </tbody>\n",
       "</table>\n",
       "</div>"
      ],
      "text/plain": [
       "    Company_Name   Age  Monthly_Salary   Location     HQ  Gender\n",
       "21       Infosys  50.0          3184.0      Delhi  India       0\n",
       "32       Infosys  45.0          4034.0   Calcutta  India       0\n",
       "39       Infosys  41.0          3000.0     Mumbai  India       0\n",
       "50       Infosys  41.0          3000.0    Chennai  India       0\n",
       "57       Infosys  51.0          3184.0  Hyderabad  India       0\n",
       "68       Infosys  43.0          4034.0     Mumbai  India       0\n",
       "75       Infosys  44.0          3000.0     Cochin  India       0\n",
       "86       Infosys  41.0          3000.0      Delhi  India       0\n",
       "93       Infosys  54.0          3184.0     Mumbai  India       0\n",
       "104      Infosys  44.0          4034.0      Delhi  India       0\n",
       "122      Infosys  44.0          3234.0     Mumbai  India       0\n",
       "129      Infosys  50.0          3184.0   Calcutta  India       0\n",
       "138          CTS  44.0          3033.0     Cochin  India       0\n",
       "140      Infosys  44.0          4034.0  Hyderabad  India       0\n",
       "145      Infosys  44.0          4034.0      Delhi  India       1"
      ]
     },
     "execution_count": 69,
     "metadata": {},
     "output_type": "execute_result"
    }
   ],
   "source": [
    "Data_Analysis = df[(df['Age'] > 40) & (df['Monthly_Salary'] < 5000)]\n",
    "Data_Analysis"
   ]
  },
  {
   "cell_type": "code",
   "execution_count": 78,
   "id": "d0c39b80",
   "metadata": {},
   "outputs": [
    {
     "data": {
      "image/png": "[encoded data removed]",
      "text/plain": [
       "<Figure size 640x480 with 1 Axes>"
      ]
     },
     "metadata": {},
     "output_type": "display_data"
    }
   ],
   "source": [
    "#Plot the chart with age and salary\n",
    "plt.scatter(Data_Analysis['Age'], Data_Analysis['Monthly_Salary'])\n",
    "plt.xlabel(\"Age\")\n",
    "plt.ylabel(\"Salary\")\n",
    "plt.title(\"Age vs Salary (Age>40 & Salary<5000)\")\n",
    "plt.show()"
   ]
  },
  {
   "cell_type": "code",
   "execution_count": 79,
   "id": "6660785c",
   "metadata": {},
   "outputs": [
    {
     "data": {
      "image/png": "[encoded data removed]",
      "text/plain": [
       "<Figure size 640x480 with 1 Axes>"
      ]
     },
     "metadata": {},
     "output_type": "display_data"
    }
   ],
   "source": [
    "# Count number of people from each place\n",
    "place_count = df['Location'].value_counts()\n",
    "sn.barplot(x=place_count.index, y=place_count.values)\n",
    "plt.title(\"Number of People from Each Place\")\n",
    "plt.xticks(rotation=45)\n",
    "plt.show()"
   ]
  },
  {
   "cell_type": "markdown",
   "id": "f49b6d06",
   "metadata": {},
   "source": [
    "### 4. Data Encoding"
   ]
  },
  {
   "cell_type": "markdown",
   "id": "2bd1ed2a",
   "metadata": {},
   "source": [
    "#### 4.1 Convert categorical variables into numerical representations using techniques Such as one-hot encoding, label encoding, making them suitable for analysis by machine learning algorithms."
   ]
  },
  {
   "cell_type": "code",
   "execution_count": 82,
   "id": "759e440c",
   "metadata": {},
   "outputs": [],
   "source": [
    "from sklearn.preprocessing import LabelEncoder, OneHotEncoder, StandardScaler, MinMaxScaler"
   ]
  },
  {
   "cell_type": "code",
   "execution_count": 83,
   "id": "6c01b9f1",
   "metadata": {},
   "outputs": [],
   "source": [
    "# Label Encoding for categorical columns\n",
    "le = LabelEncoder()\n",
    "for col in df.select_dtypes(include=['object']).columns:\n",
    "    df[col] = le.fit_transform(df[col])\n"
   ]
  },
  {
   "cell_type": "code",
   "execution_count": 84,
   "id": "7d758d13",
   "metadata": {},
   "outputs": [
    {
     "name": "stdout",
     "output_type": "stream",
     "text": [
      "   Company_Name   Age  Monthly_Salary  Location  HQ  Gender\n",
      "0             5  20.0          5000.0         2   0       0\n",
      "1             2  30.0          5000.0         6   0       0\n",
      "2             5  35.0          2300.0         1   0       0\n",
      "3             2  40.0          3000.0         4   0       0\n",
      "4             5  23.0          4000.0         6   0       0\n"
     ]
    }
   ],
   "source": [
    "# One-Hot Encoding\n",
    "df_encoded = pd.get_dummies(df, drop_first=True)\n",
    "print(df_encoded.head())"
   ]
  },
  {
   "cell_type": "markdown",
   "id": "29da0afa",
   "metadata": {},
   "source": [
    "### 5. Feature Scaling"
   ]
  },
  {
   "cell_type": "markdown",
   "id": "5be97a25",
   "metadata": {},
   "source": [
    "#### After the process of encoding, perform the scaling of the features using standardscaler and minmaxscaler."
   ]
  },
  {
   "cell_type": "code",
   "execution_count": 86,
   "id": "9e7b87f5",
   "metadata": {},
   "outputs": [],
   "source": [
    "# StandardScaler\n",
    "scaler = StandardScaler()\n",
    "scaled_std = scaler.fit_transform(df_encoded)"
   ]
  },
  {
   "cell_type": "code",
   "execution_count": 90,
   "id": "bac1aa42",
   "metadata": {},
   "outputs": [
    {
     "name": "stdout",
     "output_type": "stream",
     "text": [
      "Standard Scaler Output:\n",
      " [[ 1.10286908 -1.48467637 -0.10082748 -0.89325451  0.         -0.53452248]\n",
      " [-0.37675652 -0.26717411 -0.10082748  0.7505621   0.         -0.53452248]\n",
      " [ 1.10286908  0.34157702 -1.2437349  -1.30420866  0.         -0.53452248]\n",
      " [-0.37675652  0.95032816 -0.94742557 -0.07134621  0.         -0.53452248]\n",
      " [ 1.10286908 -1.11942569 -0.52412653  0.7505621   0.         -0.53452248]]\n"
     ]
    }
   ],
   "source": [
    "print(\"Standard Scaler Output:\\n\", scaled_std[:5])"
   ]
  },
  {
   "cell_type": "code",
   "execution_count": 87,
   "id": "a98ab068",
   "metadata": {},
   "outputs": [],
   "source": [
    "# MinMaxScaler\n",
    "minmax = MinMaxScaler()\n",
    "scaled_mm = minmax.fit_transform(df_encoded)\n"
   ]
  },
  {
   "cell_type": "code",
   "execution_count": 89,
   "id": "65053e43",
   "metadata": {},
   "outputs": [
    {
     "name": "stdout",
     "output_type": "stream",
     "text": [
      "MinMax Scaler Output:\n",
      " [[0.83333333 0.08108108 0.44508934 0.2        0.         0.        ]\n",
      " [0.33333333 0.35135135 0.44508934 0.6        0.         0.        ]\n",
      " [0.83333333 0.48648649 0.13781723 0.1        0.         0.        ]\n",
      " [0.33333333 0.62162162 0.21748037 0.4        0.         0.        ]\n",
      " [0.83333333 0.16216216 0.33128485 0.6        0.         0.        ]]\n"
     ]
    }
   ],
   "source": [
    "print(\"MinMax Scaler Output:\\n\", scaled_mm[:5])"
   ]
  },
  {
   "cell_type": "code",
   "execution_count": null,
   "id": "7fe241c8",
   "metadata": {},
   "outputs": [],
   "source": []
  }
 ],
 "metadata": {
  "kernelspec": {
   "display_name": "env",
   "language": "python",
   "name": "python3"
  },
  "language_info": {
   "codemirror_mode": {
    "name": "ipython",
    "version": 3
   },
   "file_extension": ".py",
   "mimetype": "text/x-python",
   "name": "python",
   "nbconvert_exporter": "python",
   "pygments_lexer": "ipython3",
   "version": "3.13.5"
  }
 },
 "nbformat": 4,
 "nbformat_minor": 5
}
